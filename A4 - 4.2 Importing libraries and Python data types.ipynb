{
 "cells": [
  {
   "cell_type": "markdown",
   "id": "a6baf2e2-1338-4881-a256-befb25fb855c",
   "metadata": {},
   "source": [
    "# importing libraries"
   ]
  },
  {
   "cell_type": "code",
   "execution_count": 4,
   "id": "a52ee1a0-7db0-4a22-aaa9-d174180b7eb0",
   "metadata": {},
   "outputs": [],
   "source": [
    "# import libraries\n",
    "import pandas as pd\n",
    "import numpy as np\n",
    "import os"
   ]
  },
  {
   "cell_type": "code",
   "execution_count": 5,
   "id": "9e5f42a9-faa5-4a5b-9ca2-4f9743f2721a",
   "metadata": {},
   "outputs": [],
   "source": [
    "x = 2"
   ]
  },
  {
   "cell_type": "code",
   "execution_count": 6,
   "id": "f27117b5-c046-4bb2-8056-df9fa9e3e472",
   "metadata": {},
   "outputs": [
    {
     "data": {
      "text/plain": [
       "2"
      ]
     },
     "execution_count": 6,
     "metadata": {},
     "output_type": "execute_result"
    }
   ],
   "source": [
    "x"
   ]
  },
  {
   "cell_type": "code",
   "execution_count": 7,
   "id": "4c95f1af-42c1-4a85-a339-79c27b7f0a36",
   "metadata": {},
   "outputs": [
    {
     "name": "stdout",
     "output_type": "stream",
     "text": [
      "2\n"
     ]
    }
   ],
   "source": [
    "print(x)"
   ]
  },
  {
   "cell_type": "code",
   "execution_count": 8,
   "id": "7daa34de-4fbf-4215-9999-6338e38c1c9a",
   "metadata": {},
   "outputs": [
    {
     "data": {
      "text/plain": [
       "int"
      ]
     },
     "execution_count": 8,
     "metadata": {},
     "output_type": "execute_result"
    }
   ],
   "source": [
    "type(x)"
   ]
  },
  {
   "cell_type": "code",
   "execution_count": 9,
   "id": "fece370f-c94c-40de-92f0-442e871848f2",
   "metadata": {},
   "outputs": [
    {
     "data": {
      "text/plain": [
       "float"
      ]
     },
     "execution_count": 9,
     "metadata": {},
     "output_type": "execute_result"
    }
   ],
   "source": [
    "type(5.22)"
   ]
  },
  {
   "cell_type": "code",
   "execution_count": 10,
   "id": "c6fd9013-01cf-48fb-91fe-7e32cb7ae45c",
   "metadata": {},
   "outputs": [
    {
     "ename": "NameError",
     "evalue": "name 'abkiki' is not defined",
     "output_type": "error",
     "traceback": [
      "\u001b[1;31m---------------------------------------------------------------------------\u001b[0m",
      "\u001b[1;31mNameError\u001b[0m                                 Traceback (most recent call last)",
      "Cell \u001b[1;32mIn[10], line 1\u001b[0m\n\u001b[1;32m----> 1\u001b[0m \u001b[38;5;28mtype\u001b[39m(abkiki)\n",
      "\u001b[1;31mNameError\u001b[0m: name 'abkiki' is not defined"
     ]
    }
   ],
   "source": [
    "type(abkiki)"
   ]
  },
  {
   "cell_type": "code",
   "execution_count": 11,
   "id": "349c7e6e-e83f-47a8-8962-69cea18b1281",
   "metadata": {},
   "outputs": [
    {
     "data": {
      "text/plain": [
       "str"
      ]
     },
     "execution_count": 11,
     "metadata": {},
     "output_type": "execute_result"
    }
   ],
   "source": [
    "type(\"abkiki\")"
   ]
  },
  {
   "cell_type": "code",
   "execution_count": 12,
   "id": "3d2eb10e-2ddd-482a-9046-f42f3ca3e190",
   "metadata": {},
   "outputs": [
    {
     "name": "stdout",
     "output_type": "stream",
     "text": [
      "100\n"
     ]
    }
   ],
   "source": [
    "print(200-75-25)"
   ]
  },
  {
   "cell_type": "code",
   "execution_count": 13,
   "id": "a09115f7-225e-44c9-81ea-0599081bdae4",
   "metadata": {},
   "outputs": [
    {
     "name": "stdout",
     "output_type": "stream",
     "text": [
      "100\n"
     ]
    }
   ],
   "source": [
    "print(25*4)"
   ]
  },
  {
   "cell_type": "code",
   "execution_count": 14,
   "id": "ad471f7d-8b25-40fd-bea7-d82ab0b13206",
   "metadata": {},
   "outputs": [
    {
     "name": "stdout",
     "output_type": "stream",
     "text": [
      "100\n"
     ]
    }
   ],
   "source": [
    "print((33*3)+1)"
   ]
  },
  {
   "cell_type": "code",
   "execution_count": 15,
   "id": "cf8b2a17-e699-4310-bcd3-faf28ddcf976",
   "metadata": {},
   "outputs": [],
   "source": [
    "a=22.24"
   ]
  },
  {
   "cell_type": "code",
   "execution_count": 16,
   "id": "2523e95e-1d9e-4bda-8f3d-641bd5d34587",
   "metadata": {},
   "outputs": [],
   "source": [
    "b=2.4"
   ]
  },
  {
   "cell_type": "code",
   "execution_count": 17,
   "id": "08c4d72d-ac33-442c-ae87-6761a058dd16",
   "metadata": {},
   "outputs": [
    {
     "name": "stdout",
     "output_type": "stream",
     "text": [
      "9.266666666666666\n"
     ]
    }
   ],
   "source": [
    "print(a/b)"
   ]
  },
  {
   "cell_type": "code",
   "execution_count": 18,
   "id": "132b352b-857f-4aad-9be0-de9dde6ee0a4",
   "metadata": {},
   "outputs": [],
   "source": [
    "c = 'cat'"
   ]
  },
  {
   "cell_type": "code",
   "execution_count": 19,
   "id": "1604c73d-d6e4-45eb-b82f-ec603fe590d5",
   "metadata": {},
   "outputs": [],
   "source": [
    "d = 'dog'"
   ]
  },
  {
   "cell_type": "code",
   "execution_count": 20,
   "id": "dc6f8f5f-e3c9-4892-ac78-7391cfa8c577",
   "metadata": {},
   "outputs": [
    {
     "ename": "NameError",
     "evalue": "name 'D' is not defined",
     "output_type": "error",
     "traceback": [
      "\u001b[1;31m---------------------------------------------------------------------------\u001b[0m",
      "\u001b[1;31mNameError\u001b[0m                                 Traceback (most recent call last)",
      "Cell \u001b[1;32mIn[20], line 1\u001b[0m\n\u001b[1;32m----> 1\u001b[0m \u001b[38;5;28mprint\u001b[39m(c\u001b[38;5;241m+\u001b[39mD)\n",
      "\u001b[1;31mNameError\u001b[0m: name 'D' is not defined"
     ]
    }
   ],
   "source": [
    "print(c+D)"
   ]
  },
  {
   "cell_type": "code",
   "execution_count": 21,
   "id": "81d384d9-6e25-477a-9838-efa4eb27b22e",
   "metadata": {},
   "outputs": [
    {
     "name": "stdout",
     "output_type": "stream",
     "text": [
      "catdog\n"
     ]
    }
   ],
   "source": [
    "print(c+d)"
   ]
  },
  {
   "cell_type": "code",
   "execution_count": 22,
   "id": "80ef221e-237c-40e7-93c6-9cd5b78f8c7b",
   "metadata": {},
   "outputs": [
    {
     "name": "stdout",
     "output_type": "stream",
     "text": [
      "catcatcatcatcatcatcatcatcatcatcatcatcatcatcatcatcatcatcatcatcatcatcatcatcatcatcatcatcatcatcatcatcatcatcatcatcatcatcatcatcatcatcatcatcatcatcatcatcatcatcatcatcatcatcatcatcatcatcatcatcatcatcatcatcatcatcatcatcatcatcatcatcatcatcatcatcatcatcatcatcatcatcatcatcatcatcatcatcatcatcatcatcatcatcatcatcatcatcatcat\n"
     ]
    }
   ],
   "source": [
    "print(c*100)"
   ]
  },
  {
   "cell_type": "code",
   "execution_count": 30,
   "id": "cc96a9c9-e103-41bf-a880-b232b8a0a323",
   "metadata": {},
   "outputs": [
    {
     "name": "stdout",
     "output_type": "stream",
     "text": [
      "cat and dog are my fav pets.\n"
     ]
    }
   ],
   "source": [
    "print(c + ' and ' + d +' are my fav pets.')"
   ]
  },
  {
   "cell_type": "code",
   "execution_count": null,
   "id": "383eab4e-3b2a-47d6-b784-e104883f7983",
   "metadata": {},
   "outputs": [],
   "source": []
  }
 ],
 "metadata": {
  "kernelspec": {
   "display_name": "Python [conda env:base] *",
   "language": "python",
   "name": "conda-base-py"
  },
  "language_info": {
   "codemirror_mode": {
    "name": "ipython",
    "version": 3
   },
   "file_extension": ".py",
   "mimetype": "text/x-python",
   "name": "python",
   "nbconvert_exporter": "python",
   "pygments_lexer": "ipython3",
   "version": "3.13.5"
  }
 },
 "nbformat": 4,
 "nbformat_minor": 5
}
