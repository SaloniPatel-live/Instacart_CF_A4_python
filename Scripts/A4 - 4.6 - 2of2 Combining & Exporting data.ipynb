{
 "cells": [
  {
   "cell_type": "markdown",
   "id": "79f07b5f-5da9-462c-bced-b13357cf6f19",
   "metadata": {},
   "source": [
    "# Saloni Patel (A4 - 4.6 - 2 of 2 - Combining & Exporting Data)"
   ]
  },
  {
   "cell_type": "markdown",
   "id": "af2f501f-c6bb-4dc7-8f37-542a4311bbe1",
   "metadata": {},
   "source": [
    "# Importing Libraries and Data"
   ]
  },
  {
   "cell_type": "markdown",
   "id": "b616d1e6-9a99-4d52-bb92-e849f4d03c96",
   "metadata": {},
   "source": [
    "### Importing Libraries"
   ]
  },
  {
   "cell_type": "code",
   "execution_count": 1,
   "id": "926f70de-7051-4203-8a2d-6d08a81d80cb",
   "metadata": {},
   "outputs": [],
   "source": [
    "# importing libraries\n",
    "\n",
    "import pandas as pd\n",
    "import numpy as np\n",
    "import os"
   ]
  },
  {
   "cell_type": "code",
   "execution_count": 2,
   "id": "c103b1c9-dbc8-4f2e-a0ca-7dd27d916a51",
   "metadata": {},
   "outputs": [],
   "source": [
    "# Creating Path for ease of code\n",
    "\n",
    "path = r'C:\\Users\\psalo\\OneDrive\\Study\\CF - DA Immersion\\A4 - Python Fundamentals for Data Analyst\\A4 - Instacart Basket Analysis 07-2025'\n"
   ]
  },
  {
   "cell_type": "markdown",
   "id": "f55eaf74-5088-4f73-ba3b-d3f48121e6f1",
   "metadata": {},
   "source": [
    "# A4 - 4.6 - Assignment"
   ]
  },
  {
   "cell_type": "markdown",
   "id": "ba6a422c-cb46-4cfb-b1b5-c8e71fdd24ec",
   "metadata": {
    "jp-MarkdownHeadingCollapsed": true
   },
   "source": [
    "### 3 - Importing Data"
   ]
  },
  {
   "cell_type": "markdown",
   "id": "4bb0cb82-a1a7-4db6-b924-4406e4bcc948",
   "metadata": {},
   "source": [
    "### Importing Prepared Product Data"
   ]
  },
  {
   "cell_type": "code",
   "execution_count": 3,
   "id": "0b1fc279-c3b9-4f98-9ca0-b0ca65729341",
   "metadata": {},
   "outputs": [
    {
     "name": "stdout",
     "output_type": "stream",
     "text": [
      "Number of rows imported: 49672\n"
     ]
    }
   ],
   "source": [
    "# Importing Prepared Product Data from Prepared Data Folder\n",
    "\n",
    "df_prod = pd.read_csv(os.path.join(path, '02 Data', 'Prepared Data', 'Products_cleaned.csv'), index_col = False)\n",
    "print(f\"Number of rows imported: {df_prod.shape[0]}\")\n"
   ]
  },
  {
   "cell_type": "markdown",
   "id": "b64fbcb0-77bd-4e28-b3cf-1bddc1a048a3",
   "metadata": {},
   "source": [
    "### Importing 'orders_products_combined.pkl' from Prepared Data"
   ]
  },
  {
   "cell_type": "code",
   "execution_count": 4,
   "id": "bc6389e9-0c47-49ef-8ce8-376c065c4453",
   "metadata": {},
   "outputs": [
    {
     "name": "stdout",
     "output_type": "stream",
     "text": [
      "Number of rows imported: 32434489\n"
     ]
    }
   ],
   "source": [
    "# Importing 'orders_products_combined.pkl' from Prepared Data\n",
    "\n",
    "df_ords_prods_comb = pd.read_pickle(os.path.join(path, '02 Data', 'Prepared Data', 'orders_products_combined.pkl'))\n",
    "print(f\"Number of rows imported: {df_ords_prods_comb.shape[0]}\")"
   ]
  },
  {
   "cell_type": "markdown",
   "id": "4fdf7796-5e69-4c54-a9bc-2f86e87c5147",
   "metadata": {},
   "source": [
    "### 4 - Check the shape of the imported dataframe. Along with shape I am also checking data types and head()"
   ]
  },
  {
   "cell_type": "markdown",
   "id": "3c76b445-ca05-40e1-bcdc-1bcc7b39db4a",
   "metadata": {
    "jp-MarkdownHeadingCollapsed": true
   },
   "source": [
    "### Checking the imported data shape"
   ]
  },
  {
   "cell_type": "code",
   "execution_count": 5,
   "id": "e7fc687d-6710-4243-ae78-f3d3f38b427e",
   "metadata": {},
   "outputs": [
    {
     "data": {
      "text/plain": [
       "(49672, 6)"
      ]
     },
     "execution_count": 5,
     "metadata": {},
     "output_type": "execute_result"
    }
   ],
   "source": [
    "# Checking the Product Data Shape\n",
    "\n",
    "df_prod.shape"
   ]
  },
  {
   "cell_type": "code",
   "execution_count": 6,
   "id": "72de7a88-3f9e-4d06-9f7a-3e24f5236327",
   "metadata": {},
   "outputs": [
    {
     "data": {
      "text/plain": [
       "(32434489, 13)"
      ]
     },
     "execution_count": 6,
     "metadata": {},
     "output_type": "execute_result"
    }
   ],
   "source": [
    "# Checking the Merged Data Shape\n",
    "\n",
    "df_ords_prods_comb.shape"
   ]
  },
  {
   "cell_type": "markdown",
   "id": "c3eafcbc-7be9-402f-9604-41c3cdff62d0",
   "metadata": {
    "jp-MarkdownHeadingCollapsed": true
   },
   "source": [
    "### Checking the imported data types"
   ]
  },
  {
   "cell_type": "code",
   "execution_count": 7,
   "id": "ff9f515d-9302-4984-b408-dc0dec5abcd4",
   "metadata": {},
   "outputs": [
    {
     "data": {
      "text/plain": [
       "Unnamed: 0         int64\n",
       "product_id         int64\n",
       "product_name      object\n",
       "aisle_id           int64\n",
       "department_id      int64\n",
       "prices           float64\n",
       "dtype: object"
      ]
     },
     "execution_count": 7,
     "metadata": {},
     "output_type": "execute_result"
    }
   ],
   "source": [
    "# Checking the Product Data Types\n",
    "\n",
    "df_prod.dtypes"
   ]
  },
  {
   "cell_type": "code",
   "execution_count": 8,
   "id": "a5b4a373-189d-486f-a3c3-d1c86c718674",
   "metadata": {},
   "outputs": [
    {
     "data": {
      "text/plain": [
       "Unnamed: 0.1                int64\n",
       "Unnamed: 0                  int64\n",
       "order_id                    int64\n",
       "user_id                     int64\n",
       "eval_set                   object\n",
       "order_number                int64\n",
       "orders_day_of_week          int64\n",
       "order_hour_of_day           int64\n",
       "days_since_last_order     float64\n",
       "product_id                  int64\n",
       "add_to_cart_order           int64\n",
       "reordered                   int64\n",
       "_merge                   category\n",
       "dtype: object"
      ]
     },
     "execution_count": 8,
     "metadata": {},
     "output_type": "execute_result"
    }
   ],
   "source": [
    "# Checking the Merged Data Types\n",
    "\n",
    "df_ords_prods_comb.dtypes"
   ]
  },
  {
   "cell_type": "markdown",
   "id": "16995d11-3ca2-46d4-b407-3eed967acdb8",
   "metadata": {
    "jp-MarkdownHeadingCollapsed": true
   },
   "source": [
    "### Checking the imported data head()"
   ]
  },
  {
   "cell_type": "code",
   "execution_count": 9,
   "id": "da3ada19-3c0b-4d35-9ef9-803cda5ca5aa",
   "metadata": {},
   "outputs": [
    {
     "data": {
      "text/html": [
       "<div>\n",
       "<style scoped>\n",
       "    .dataframe tbody tr th:only-of-type {\n",
       "        vertical-align: middle;\n",
       "    }\n",
       "\n",
       "    .dataframe tbody tr th {\n",
       "        vertical-align: top;\n",
       "    }\n",
       "\n",
       "    .dataframe thead th {\n",
       "        text-align: right;\n",
       "    }\n",
       "</style>\n",
       "<table border=\"1\" class=\"dataframe\">\n",
       "  <thead>\n",
       "    <tr style=\"text-align: right;\">\n",
       "      <th></th>\n",
       "      <th>Unnamed: 0</th>\n",
       "      <th>product_id</th>\n",
       "      <th>product_name</th>\n",
       "      <th>aisle_id</th>\n",
       "      <th>department_id</th>\n",
       "      <th>prices</th>\n",
       "    </tr>\n",
       "  </thead>\n",
       "  <tbody>\n",
       "    <tr>\n",
       "      <th>0</th>\n",
       "      <td>0</td>\n",
       "      <td>1</td>\n",
       "      <td>Chocolate Sandwich Cookies</td>\n",
       "      <td>61</td>\n",
       "      <td>19</td>\n",
       "      <td>5.8</td>\n",
       "    </tr>\n",
       "    <tr>\n",
       "      <th>1</th>\n",
       "      <td>1</td>\n",
       "      <td>2</td>\n",
       "      <td>All-Seasons Salt</td>\n",
       "      <td>104</td>\n",
       "      <td>13</td>\n",
       "      <td>9.3</td>\n",
       "    </tr>\n",
       "    <tr>\n",
       "      <th>2</th>\n",
       "      <td>2</td>\n",
       "      <td>3</td>\n",
       "      <td>Robust Golden Unsweetened Oolong Tea</td>\n",
       "      <td>94</td>\n",
       "      <td>7</td>\n",
       "      <td>4.5</td>\n",
       "    </tr>\n",
       "    <tr>\n",
       "      <th>3</th>\n",
       "      <td>3</td>\n",
       "      <td>4</td>\n",
       "      <td>Smart Ones Classic Favorites Mini Rigatoni Wit...</td>\n",
       "      <td>38</td>\n",
       "      <td>1</td>\n",
       "      <td>10.5</td>\n",
       "    </tr>\n",
       "    <tr>\n",
       "      <th>4</th>\n",
       "      <td>4</td>\n",
       "      <td>5</td>\n",
       "      <td>Green Chile Anytime Sauce</td>\n",
       "      <td>5</td>\n",
       "      <td>13</td>\n",
       "      <td>4.3</td>\n",
       "    </tr>\n",
       "  </tbody>\n",
       "</table>\n",
       "</div>"
      ],
      "text/plain": [
       "   Unnamed: 0  product_id                                       product_name  \\\n",
       "0           0           1                         Chocolate Sandwich Cookies   \n",
       "1           1           2                                   All-Seasons Salt   \n",
       "2           2           3               Robust Golden Unsweetened Oolong Tea   \n",
       "3           3           4  Smart Ones Classic Favorites Mini Rigatoni Wit...   \n",
       "4           4           5                          Green Chile Anytime Sauce   \n",
       "\n",
       "   aisle_id  department_id  prices  \n",
       "0        61             19     5.8  \n",
       "1       104             13     9.3  \n",
       "2        94              7     4.5  \n",
       "3        38              1    10.5  \n",
       "4         5             13     4.3  "
      ]
     },
     "execution_count": 9,
     "metadata": {},
     "output_type": "execute_result"
    }
   ],
   "source": [
    "# Checking the Product Data Head\n",
    "\n",
    "df_prod.head(5)"
   ]
  },
  {
   "cell_type": "code",
   "execution_count": 10,
   "id": "24e99cea-6e06-4cee-bdbf-131022966842",
   "metadata": {},
   "outputs": [
    {
     "data": {
      "text/html": [
       "<div>\n",
       "<style scoped>\n",
       "    .dataframe tbody tr th:only-of-type {\n",
       "        vertical-align: middle;\n",
       "    }\n",
       "\n",
       "    .dataframe tbody tr th {\n",
       "        vertical-align: top;\n",
       "    }\n",
       "\n",
       "    .dataframe thead th {\n",
       "        text-align: right;\n",
       "    }\n",
       "</style>\n",
       "<table border=\"1\" class=\"dataframe\">\n",
       "  <thead>\n",
       "    <tr style=\"text-align: right;\">\n",
       "      <th></th>\n",
       "      <th>Unnamed: 0.1</th>\n",
       "      <th>Unnamed: 0</th>\n",
       "      <th>order_id</th>\n",
       "      <th>user_id</th>\n",
       "      <th>eval_set</th>\n",
       "      <th>order_number</th>\n",
       "      <th>orders_day_of_week</th>\n",
       "      <th>order_hour_of_day</th>\n",
       "      <th>days_since_last_order</th>\n",
       "      <th>product_id</th>\n",
       "      <th>add_to_cart_order</th>\n",
       "      <th>reordered</th>\n",
       "      <th>_merge</th>\n",
       "    </tr>\n",
       "  </thead>\n",
       "  <tbody>\n",
       "    <tr>\n",
       "      <th>0</th>\n",
       "      <td>0</td>\n",
       "      <td>0</td>\n",
       "      <td>2539329</td>\n",
       "      <td>1</td>\n",
       "      <td>prior</td>\n",
       "      <td>1</td>\n",
       "      <td>2</td>\n",
       "      <td>8</td>\n",
       "      <td>7.0</td>\n",
       "      <td>196</td>\n",
       "      <td>1</td>\n",
       "      <td>0</td>\n",
       "      <td>both</td>\n",
       "    </tr>\n",
       "    <tr>\n",
       "      <th>1</th>\n",
       "      <td>0</td>\n",
       "      <td>0</td>\n",
       "      <td>2539329</td>\n",
       "      <td>1</td>\n",
       "      <td>prior</td>\n",
       "      <td>1</td>\n",
       "      <td>2</td>\n",
       "      <td>8</td>\n",
       "      <td>7.0</td>\n",
       "      <td>14084</td>\n",
       "      <td>2</td>\n",
       "      <td>0</td>\n",
       "      <td>both</td>\n",
       "    </tr>\n",
       "    <tr>\n",
       "      <th>2</th>\n",
       "      <td>0</td>\n",
       "      <td>0</td>\n",
       "      <td>2539329</td>\n",
       "      <td>1</td>\n",
       "      <td>prior</td>\n",
       "      <td>1</td>\n",
       "      <td>2</td>\n",
       "      <td>8</td>\n",
       "      <td>7.0</td>\n",
       "      <td>12427</td>\n",
       "      <td>3</td>\n",
       "      <td>0</td>\n",
       "      <td>both</td>\n",
       "    </tr>\n",
       "    <tr>\n",
       "      <th>3</th>\n",
       "      <td>0</td>\n",
       "      <td>0</td>\n",
       "      <td>2539329</td>\n",
       "      <td>1</td>\n",
       "      <td>prior</td>\n",
       "      <td>1</td>\n",
       "      <td>2</td>\n",
       "      <td>8</td>\n",
       "      <td>7.0</td>\n",
       "      <td>26088</td>\n",
       "      <td>4</td>\n",
       "      <td>0</td>\n",
       "      <td>both</td>\n",
       "    </tr>\n",
       "    <tr>\n",
       "      <th>4</th>\n",
       "      <td>0</td>\n",
       "      <td>0</td>\n",
       "      <td>2539329</td>\n",
       "      <td>1</td>\n",
       "      <td>prior</td>\n",
       "      <td>1</td>\n",
       "      <td>2</td>\n",
       "      <td>8</td>\n",
       "      <td>7.0</td>\n",
       "      <td>26405</td>\n",
       "      <td>5</td>\n",
       "      <td>0</td>\n",
       "      <td>both</td>\n",
       "    </tr>\n",
       "  </tbody>\n",
       "</table>\n",
       "</div>"
      ],
      "text/plain": [
       "   Unnamed: 0.1  Unnamed: 0  order_id  user_id eval_set  order_number  \\\n",
       "0             0           0   2539329        1    prior             1   \n",
       "1             0           0   2539329        1    prior             1   \n",
       "2             0           0   2539329        1    prior             1   \n",
       "3             0           0   2539329        1    prior             1   \n",
       "4             0           0   2539329        1    prior             1   \n",
       "\n",
       "   orders_day_of_week  order_hour_of_day  days_since_last_order  product_id  \\\n",
       "0                   2                  8                    7.0         196   \n",
       "1                   2                  8                    7.0       14084   \n",
       "2                   2                  8                    7.0       12427   \n",
       "3                   2                  8                    7.0       26088   \n",
       "4                   2                  8                    7.0       26405   \n",
       "\n",
       "   add_to_cart_order  reordered _merge  \n",
       "0                  1          0   both  \n",
       "1                  2          0   both  \n",
       "2                  3          0   both  \n",
       "3                  4          0   both  \n",
       "4                  5          0   both  "
      ]
     },
     "execution_count": 10,
     "metadata": {},
     "output_type": "execute_result"
    }
   ],
   "source": [
    "# Checking the df_ords_prods_comb Head\n",
    "\n",
    "df_ords_prods_comb.head(5)"
   ]
  },
  {
   "cell_type": "markdown",
   "id": "b5ec6d91-9666-4192-9d7a-7529d50bab1e",
   "metadata": {},
   "source": [
    "### 5 - Determine a suitable way to combine the orders_products_combined dataframe with your products data set. Make sure you’re using your wrangled, cleaned, and deduped products data set stored in your “Prepared Data” folder from the previous Exercise’s task.\n",
    "\n",
    "1. I have already imported correct and cleaned Product data set in step # 3\n",
    "2. Column 'Unnamed: 0' should be removed from df_prod as these are not needed\n",
    "3. Columns 'Unnamed: 0.1' , 'Unnamed: 0' and '_merge' should be removed from df_ords_prods_comb as first two are not needed and the laste one will be recreated following the new merge function\n",
    "4. The common variable is 'product_id' in both df_prod and df_ords_prods_comb\n",
    "5. The new combined df will be named 'df_ords_prods_merge'"
   ]
  },
  {
   "cell_type": "markdown",
   "id": "b5a915f5-416a-4995-8096-7550b1b3bd17",
   "metadata": {},
   "source": [
    "#### Column 'Unnamed: 0' should be removed from df_prod"
   ]
  },
  {
   "cell_type": "code",
   "execution_count": 11,
   "id": "e4dd16bd-8d3f-43ff-ba2f-ef3626715323",
   "metadata": {},
   "outputs": [],
   "source": [
    "#Drop the column\n",
    "\n",
    "df_prod = df_prod.drop(['Unnamed: 0'], axis=1)"
   ]
  },
  {
   "cell_type": "code",
   "execution_count": 12,
   "id": "84b4bb2c-efb9-4530-9d04-fed5ae5f6ba3",
   "metadata": {},
   "outputs": [
    {
     "data": {
      "text/html": [
       "<div>\n",
       "<style scoped>\n",
       "    .dataframe tbody tr th:only-of-type {\n",
       "        vertical-align: middle;\n",
       "    }\n",
       "\n",
       "    .dataframe tbody tr th {\n",
       "        vertical-align: top;\n",
       "    }\n",
       "\n",
       "    .dataframe thead th {\n",
       "        text-align: right;\n",
       "    }\n",
       "</style>\n",
       "<table border=\"1\" class=\"dataframe\">\n",
       "  <thead>\n",
       "    <tr style=\"text-align: right;\">\n",
       "      <th></th>\n",
       "      <th>product_id</th>\n",
       "      <th>product_name</th>\n",
       "      <th>aisle_id</th>\n",
       "      <th>department_id</th>\n",
       "      <th>prices</th>\n",
       "    </tr>\n",
       "  </thead>\n",
       "  <tbody>\n",
       "    <tr>\n",
       "      <th>0</th>\n",
       "      <td>1</td>\n",
       "      <td>Chocolate Sandwich Cookies</td>\n",
       "      <td>61</td>\n",
       "      <td>19</td>\n",
       "      <td>5.8</td>\n",
       "    </tr>\n",
       "    <tr>\n",
       "      <th>1</th>\n",
       "      <td>2</td>\n",
       "      <td>All-Seasons Salt</td>\n",
       "      <td>104</td>\n",
       "      <td>13</td>\n",
       "      <td>9.3</td>\n",
       "    </tr>\n",
       "    <tr>\n",
       "      <th>2</th>\n",
       "      <td>3</td>\n",
       "      <td>Robust Golden Unsweetened Oolong Tea</td>\n",
       "      <td>94</td>\n",
       "      <td>7</td>\n",
       "      <td>4.5</td>\n",
       "    </tr>\n",
       "    <tr>\n",
       "      <th>3</th>\n",
       "      <td>4</td>\n",
       "      <td>Smart Ones Classic Favorites Mini Rigatoni Wit...</td>\n",
       "      <td>38</td>\n",
       "      <td>1</td>\n",
       "      <td>10.5</td>\n",
       "    </tr>\n",
       "    <tr>\n",
       "      <th>4</th>\n",
       "      <td>5</td>\n",
       "      <td>Green Chile Anytime Sauce</td>\n",
       "      <td>5</td>\n",
       "      <td>13</td>\n",
       "      <td>4.3</td>\n",
       "    </tr>\n",
       "  </tbody>\n",
       "</table>\n",
       "</div>"
      ],
      "text/plain": [
       "   product_id                                       product_name  aisle_id  \\\n",
       "0           1                         Chocolate Sandwich Cookies        61   \n",
       "1           2                                   All-Seasons Salt       104   \n",
       "2           3               Robust Golden Unsweetened Oolong Tea        94   \n",
       "3           4  Smart Ones Classic Favorites Mini Rigatoni Wit...        38   \n",
       "4           5                          Green Chile Anytime Sauce         5   \n",
       "\n",
       "   department_id  prices  \n",
       "0             19     5.8  \n",
       "1             13     9.3  \n",
       "2              7     4.5  \n",
       "3              1    10.5  \n",
       "4             13     4.3  "
      ]
     },
     "execution_count": 12,
     "metadata": {},
     "output_type": "execute_result"
    }
   ],
   "source": [
    "#Check the df after dropping a column\n",
    "\n",
    "df_prod.head()"
   ]
  },
  {
   "cell_type": "markdown",
   "id": "c59a75d2-4851-4a5f-b69d-d7bb5cbc1ddd",
   "metadata": {},
   "source": [
    "#### Columns 'Unnamed: 0.1' , 'Unnamed: 0' and '_merge' should be removed from df_merged_large"
   ]
  },
  {
   "cell_type": "code",
   "execution_count": 13,
   "id": "abc85369-c337-4900-aee5-320091b7d227",
   "metadata": {},
   "outputs": [],
   "source": [
    "#Drop the columns\n",
    "\n",
    "df_ords_prods_comb = df_ords_prods_comb.drop(['Unnamed: 0' , 'Unnamed: 0.1' , '_merge'], axis=1)"
   ]
  },
  {
   "cell_type": "code",
   "execution_count": 14,
   "id": "6880e52c-889d-4ea9-9168-8823d8b07e79",
   "metadata": {},
   "outputs": [
    {
     "data": {
      "text/html": [
       "<div>\n",
       "<style scoped>\n",
       "    .dataframe tbody tr th:only-of-type {\n",
       "        vertical-align: middle;\n",
       "    }\n",
       "\n",
       "    .dataframe tbody tr th {\n",
       "        vertical-align: top;\n",
       "    }\n",
       "\n",
       "    .dataframe thead th {\n",
       "        text-align: right;\n",
       "    }\n",
       "</style>\n",
       "<table border=\"1\" class=\"dataframe\">\n",
       "  <thead>\n",
       "    <tr style=\"text-align: right;\">\n",
       "      <th></th>\n",
       "      <th>order_id</th>\n",
       "      <th>user_id</th>\n",
       "      <th>eval_set</th>\n",
       "      <th>order_number</th>\n",
       "      <th>orders_day_of_week</th>\n",
       "      <th>order_hour_of_day</th>\n",
       "      <th>days_since_last_order</th>\n",
       "      <th>product_id</th>\n",
       "      <th>add_to_cart_order</th>\n",
       "      <th>reordered</th>\n",
       "    </tr>\n",
       "  </thead>\n",
       "  <tbody>\n",
       "    <tr>\n",
       "      <th>0</th>\n",
       "      <td>2539329</td>\n",
       "      <td>1</td>\n",
       "      <td>prior</td>\n",
       "      <td>1</td>\n",
       "      <td>2</td>\n",
       "      <td>8</td>\n",
       "      <td>7.0</td>\n",
       "      <td>196</td>\n",
       "      <td>1</td>\n",
       "      <td>0</td>\n",
       "    </tr>\n",
       "    <tr>\n",
       "      <th>1</th>\n",
       "      <td>2539329</td>\n",
       "      <td>1</td>\n",
       "      <td>prior</td>\n",
       "      <td>1</td>\n",
       "      <td>2</td>\n",
       "      <td>8</td>\n",
       "      <td>7.0</td>\n",
       "      <td>14084</td>\n",
       "      <td>2</td>\n",
       "      <td>0</td>\n",
       "    </tr>\n",
       "    <tr>\n",
       "      <th>2</th>\n",
       "      <td>2539329</td>\n",
       "      <td>1</td>\n",
       "      <td>prior</td>\n",
       "      <td>1</td>\n",
       "      <td>2</td>\n",
       "      <td>8</td>\n",
       "      <td>7.0</td>\n",
       "      <td>12427</td>\n",
       "      <td>3</td>\n",
       "      <td>0</td>\n",
       "    </tr>\n",
       "    <tr>\n",
       "      <th>3</th>\n",
       "      <td>2539329</td>\n",
       "      <td>1</td>\n",
       "      <td>prior</td>\n",
       "      <td>1</td>\n",
       "      <td>2</td>\n",
       "      <td>8</td>\n",
       "      <td>7.0</td>\n",
       "      <td>26088</td>\n",
       "      <td>4</td>\n",
       "      <td>0</td>\n",
       "    </tr>\n",
       "    <tr>\n",
       "      <th>4</th>\n",
       "      <td>2539329</td>\n",
       "      <td>1</td>\n",
       "      <td>prior</td>\n",
       "      <td>1</td>\n",
       "      <td>2</td>\n",
       "      <td>8</td>\n",
       "      <td>7.0</td>\n",
       "      <td>26405</td>\n",
       "      <td>5</td>\n",
       "      <td>0</td>\n",
       "    </tr>\n",
       "  </tbody>\n",
       "</table>\n",
       "</div>"
      ],
      "text/plain": [
       "   order_id  user_id eval_set  order_number  orders_day_of_week  \\\n",
       "0   2539329        1    prior             1                   2   \n",
       "1   2539329        1    prior             1                   2   \n",
       "2   2539329        1    prior             1                   2   \n",
       "3   2539329        1    prior             1                   2   \n",
       "4   2539329        1    prior             1                   2   \n",
       "\n",
       "   order_hour_of_day  days_since_last_order  product_id  add_to_cart_order  \\\n",
       "0                  8                    7.0         196                  1   \n",
       "1                  8                    7.0       14084                  2   \n",
       "2                  8                    7.0       12427                  3   \n",
       "3                  8                    7.0       26088                  4   \n",
       "4                  8                    7.0       26405                  5   \n",
       "\n",
       "   reordered  \n",
       "0          0  \n",
       "1          0  \n",
       "2          0  \n",
       "3          0  \n",
       "4          0  "
      ]
     },
     "execution_count": 14,
     "metadata": {},
     "output_type": "execute_result"
    }
   ],
   "source": [
    "#Check the df after dropping the columns\n",
    "\n",
    "df_ords_prods_comb.head()"
   ]
  },
  {
   "cell_type": "markdown",
   "id": "530aa866-ddf8-450b-8153-1e2a5e41b747",
   "metadata": {},
   "source": [
    "#### Merging 'df_prod' and 'df_ords_prods_comb' with common varibale 'product_id'"
   ]
  },
  {
   "cell_type": "code",
   "execution_count": 15,
   "id": "7919da99-011e-43bc-ae62-c9633457a603",
   "metadata": {},
   "outputs": [],
   "source": [
    "#Merging 'df_prod' and 'df_ords_prods_comb' with common varibale 'product_id'\n",
    "\n",
    "df_ords_prods_merge = df_prod.merge(df_ords_prods_comb, on = 'product_id', indicator = True)\n"
   ]
  },
  {
   "cell_type": "markdown",
   "id": "e995cf0d-00dc-48f2-874c-8915dbb22d34",
   "metadata": {},
   "source": [
    "#### Checking newly created 'df_ords_prods_merge'"
   ]
  },
  {
   "cell_type": "code",
   "execution_count": 17,
   "id": "1711b247-25a0-4d82-bb6e-938c8ad51c44",
   "metadata": {},
   "outputs": [
    {
     "data": {
      "text/html": [
       "<div>\n",
       "<style scoped>\n",
       "    .dataframe tbody tr th:only-of-type {\n",
       "        vertical-align: middle;\n",
       "    }\n",
       "\n",
       "    .dataframe tbody tr th {\n",
       "        vertical-align: top;\n",
       "    }\n",
       "\n",
       "    .dataframe thead th {\n",
       "        text-align: right;\n",
       "    }\n",
       "</style>\n",
       "<table border=\"1\" class=\"dataframe\">\n",
       "  <thead>\n",
       "    <tr style=\"text-align: right;\">\n",
       "      <th></th>\n",
       "      <th>product_id</th>\n",
       "      <th>product_name</th>\n",
       "      <th>aisle_id</th>\n",
       "      <th>department_id</th>\n",
       "      <th>prices</th>\n",
       "      <th>order_id</th>\n",
       "      <th>user_id</th>\n",
       "      <th>eval_set</th>\n",
       "      <th>order_number</th>\n",
       "      <th>orders_day_of_week</th>\n",
       "      <th>order_hour_of_day</th>\n",
       "      <th>days_since_last_order</th>\n",
       "      <th>add_to_cart_order</th>\n",
       "      <th>reordered</th>\n",
       "      <th>_merge</th>\n",
       "    </tr>\n",
       "  </thead>\n",
       "  <tbody>\n",
       "    <tr>\n",
       "      <th>0</th>\n",
       "      <td>1</td>\n",
       "      <td>Chocolate Sandwich Cookies</td>\n",
       "      <td>61</td>\n",
       "      <td>19</td>\n",
       "      <td>5.8</td>\n",
       "      <td>3139998</td>\n",
       "      <td>138</td>\n",
       "      <td>prior</td>\n",
       "      <td>28</td>\n",
       "      <td>6</td>\n",
       "      <td>11</td>\n",
       "      <td>3.0</td>\n",
       "      <td>5</td>\n",
       "      <td>0</td>\n",
       "      <td>both</td>\n",
       "    </tr>\n",
       "    <tr>\n",
       "      <th>1</th>\n",
       "      <td>1</td>\n",
       "      <td>Chocolate Sandwich Cookies</td>\n",
       "      <td>61</td>\n",
       "      <td>19</td>\n",
       "      <td>5.8</td>\n",
       "      <td>1977647</td>\n",
       "      <td>138</td>\n",
       "      <td>prior</td>\n",
       "      <td>30</td>\n",
       "      <td>6</td>\n",
       "      <td>17</td>\n",
       "      <td>20.0</td>\n",
       "      <td>1</td>\n",
       "      <td>1</td>\n",
       "      <td>both</td>\n",
       "    </tr>\n",
       "    <tr>\n",
       "      <th>2</th>\n",
       "      <td>1</td>\n",
       "      <td>Chocolate Sandwich Cookies</td>\n",
       "      <td>61</td>\n",
       "      <td>19</td>\n",
       "      <td>5.8</td>\n",
       "      <td>389851</td>\n",
       "      <td>709</td>\n",
       "      <td>prior</td>\n",
       "      <td>2</td>\n",
       "      <td>0</td>\n",
       "      <td>21</td>\n",
       "      <td>6.0</td>\n",
       "      <td>20</td>\n",
       "      <td>0</td>\n",
       "      <td>both</td>\n",
       "    </tr>\n",
       "    <tr>\n",
       "      <th>3</th>\n",
       "      <td>1</td>\n",
       "      <td>Chocolate Sandwich Cookies</td>\n",
       "      <td>61</td>\n",
       "      <td>19</td>\n",
       "      <td>5.8</td>\n",
       "      <td>652770</td>\n",
       "      <td>764</td>\n",
       "      <td>prior</td>\n",
       "      <td>1</td>\n",
       "      <td>3</td>\n",
       "      <td>13</td>\n",
       "      <td>7.0</td>\n",
       "      <td>10</td>\n",
       "      <td>0</td>\n",
       "      <td>both</td>\n",
       "    </tr>\n",
       "    <tr>\n",
       "      <th>4</th>\n",
       "      <td>1</td>\n",
       "      <td>Chocolate Sandwich Cookies</td>\n",
       "      <td>61</td>\n",
       "      <td>19</td>\n",
       "      <td>5.8</td>\n",
       "      <td>1813452</td>\n",
       "      <td>764</td>\n",
       "      <td>prior</td>\n",
       "      <td>3</td>\n",
       "      <td>4</td>\n",
       "      <td>17</td>\n",
       "      <td>9.0</td>\n",
       "      <td>11</td>\n",
       "      <td>1</td>\n",
       "      <td>both</td>\n",
       "    </tr>\n",
       "  </tbody>\n",
       "</table>\n",
       "</div>"
      ],
      "text/plain": [
       "   product_id                product_name  aisle_id  department_id  prices  \\\n",
       "0           1  Chocolate Sandwich Cookies        61             19     5.8   \n",
       "1           1  Chocolate Sandwich Cookies        61             19     5.8   \n",
       "2           1  Chocolate Sandwich Cookies        61             19     5.8   \n",
       "3           1  Chocolate Sandwich Cookies        61             19     5.8   \n",
       "4           1  Chocolate Sandwich Cookies        61             19     5.8   \n",
       "\n",
       "   order_id  user_id eval_set  order_number  orders_day_of_week  \\\n",
       "0   3139998      138    prior            28                   6   \n",
       "1   1977647      138    prior            30                   6   \n",
       "2    389851      709    prior             2                   0   \n",
       "3    652770      764    prior             1                   3   \n",
       "4   1813452      764    prior             3                   4   \n",
       "\n",
       "   order_hour_of_day  days_since_last_order  add_to_cart_order  reordered  \\\n",
       "0                 11                    3.0                  5          0   \n",
       "1                 17                   20.0                  1          1   \n",
       "2                 21                    6.0                 20          0   \n",
       "3                 13                    7.0                 10          0   \n",
       "4                 17                    9.0                 11          1   \n",
       "\n",
       "  _merge  \n",
       "0   both  \n",
       "1   both  \n",
       "2   both  \n",
       "3   both  \n",
       "4   both  "
      ]
     },
     "execution_count": 17,
     "metadata": {},
     "output_type": "execute_result"
    }
   ],
   "source": [
    "# Check the newly created 'df_ords_prods_merge'\n",
    "\n",
    "df_ords_prods_merge.head()"
   ]
  },
  {
   "cell_type": "code",
   "execution_count": 18,
   "id": "3871a85f-2a1a-4b0d-83e3-d1b2c49bd16e",
   "metadata": {},
   "outputs": [
    {
     "data": {
      "text/plain": [
       "(32404859, 15)"
      ]
     },
     "execution_count": 18,
     "metadata": {},
     "output_type": "execute_result"
    }
   ],
   "source": [
    "#checking the shape of df_ords_prods_merge\n",
    "\n",
    "df_ords_prods_merge.shape"
   ]
  },
  {
   "cell_type": "markdown",
   "id": "fd8b24ba-b560-4449-87b2-8f3912ce728c",
   "metadata": {},
   "source": [
    "### 6 - Confirm the results of the merge using the merge flag"
   ]
  },
  {
   "cell_type": "code",
   "execution_count": 19,
   "id": "62320fa4-e361-40b8-becf-90faacd6d2ff",
   "metadata": {},
   "outputs": [
    {
     "data": {
      "text/plain": [
       "_merge\n",
       "both          32404859\n",
       "left_only            0\n",
       "right_only           0\n",
       "Name: count, dtype: int64"
      ]
     },
     "execution_count": 19,
     "metadata": {},
     "output_type": "execute_result"
    }
   ],
   "source": [
    "# Confirming the merge result \n",
    "\n",
    "df_ords_prods_merge['_merge'].value_counts()"
   ]
  },
  {
   "cell_type": "markdown",
   "id": "b565cdef-9617-4cb3-9f56-fb5b857b0546",
   "metadata": {},
   "source": [
    "### 7 - Exporting 'df_ords_prods_merge' as pkl file in Prepared Data folder"
   ]
  },
  {
   "cell_type": "code",
   "execution_count": 20,
   "id": "c91d225f-bce0-4816-bdc7-29671ca38752",
   "metadata": {},
   "outputs": [],
   "source": [
    "# Exporting 'df_ords_prods_merge' as pkl file in Prepared Data folder \n",
    "\n",
    "df_ords_prods_merge.to_pickle(os.path.join(path, '02 Data','Prepared Data', 'ords_prods_merge.pkl'))"
   ]
  }
 ],
 "metadata": {
  "kernelspec": {
   "display_name": "Python [conda env:base] *",
   "language": "python",
   "name": "conda-base-py"
  },
  "language_info": {
   "codemirror_mode": {
    "name": "ipython",
    "version": 3
   },
   "file_extension": ".py",
   "mimetype": "text/x-python",
   "name": "python",
   "nbconvert_exporter": "python",
   "pygments_lexer": "ipython3",
   "version": "3.13.5"
  }
 },
 "nbformat": 4,
 "nbformat_minor": 5
}
